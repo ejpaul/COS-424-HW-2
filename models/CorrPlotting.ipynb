{
 "cells": [
  {
   "cell_type": "code",
   "execution_count": 3,
   "metadata": {
    "collapsed": false
   },
   "outputs": [],
   "source": [
    "import os\n",
    "os.chdir('../utils/')\n",
    "from UtilityFunctions import read_corrs, read_bed_dat_feat\n",
    "import pylab as P\n",
    "import numpy as np\n",
    "\n",
    "path = '/Users/elizabethpaul/Documents/COS424/beds/'\n",
    "train = read_bed_dat_feat(path, chrom=1)\n",
    "corrs = read_corrs(path, chrom=1)"
   ]
  },
  {
   "cell_type": "code",
   "execution_count": 7,
   "metadata": {
    "collapsed": true
   },
   "outputs": [],
   "source": [
    "os.chdir('/Users/elizabethpaul/Documents/COS424/')\n",
    "# Trim off nans\n",
    "corrs = corrs[1:-1]\n",
    "train = train[1:-1]\n",
    "# Plot distribution\n",
    "P.hist(corrs, bins=30)\n",
    "P.title('All Sites')\n",
    "P.savefig('corr_all_chr1.png')\n",
    "# Plot distribution of CGI corrs\n",
    "corrs_cgi = corrs[train['CGI'] == 1]\n",
    "P.figure()\n",
    "P.hist(corrs_cgi, bins=30)\n",
    "P.title('CGI')\n",
    "P.savefig('corr_CGI_chr1.png')\n",
    "# Plot distribution of exon corrs\n",
    "corrs_exon = corrs[train['Exon'] == 1]\n",
    "P.figure()\n",
    "P.hist(corrs_exon, bins=30)\n",
    "P.title('Exon')\n",
    "P.savefig('corr_Exon_chr1.png')\n",
    "# Plot distribution of DHS regions corrs\n",
    "corrs_dhs = corrs[train['DHS'] > 0]\n",
    "P.figure()\n",
    "P.hist(corrs_dhs, bins=30)\n",
    "P.title('DHS')\n",
    "P.savefig('corr_DHS_chr1.png')\n",
    "P.show()"
   ]
  },
  {
   "cell_type": "code",
   "execution_count": 13,
   "metadata": {
    "collapsed": false
   },
   "outputs": [],
   "source": [
    "beta = train['Beta'][:,0]\n",
    "# Plot distribution\n",
    "P.hist(beta, bins=30, range =(0, 1))\n",
    "P.savefig('beta_all_chr1.png')\n",
    "# Plot distribution of CGI beta\n",
    "beta_cgi = beta[train['CGI'] == 1]\n",
    "P.figure()\n",
    "P.hist(beta_cgi, bins=30, range =(0, 1))\n",
    "P.title('CGI')\n",
    "P.savefig('beta_CGI_chr1.png')\n",
    "# Plot distribution of exon corrs\n",
    "beta_exon = beta[train['Exon'] == 1]\n",
    "P.figure()\n",
    "P.hist(beta_exon, bins=30, range =(0, 1))\n",
    "P.title('Exon')\n",
    "P.savefig('beta_Exon_chr1.png')\n",
    "# Plot distribution of DHS regions corrs\n",
    "beta_dhs = beta[train['DHS'] > 0]\n",
    "P.figure()\n",
    "P.hist(beta_dhs, bins=30, range =(0, 1))\n",
    "P.title('DHS')\n",
    "P.savefig('beta_DHS_chr1.png')\n",
    "P.show()"
   ]
  },
  {
   "cell_type": "code",
   "execution_count": 16,
   "metadata": {
    "collapsed": false
   },
   "outputs": [],
   "source": [
    "sample = read_bed_dat_feat(path, chrom=1, ftype='sample')\n",
    "test = read_bed_dat_feat(path, chrom=1, ftype='test')\n",
    "train = read_bed_dat_feat(path, chrom=1, ftype='train')"
   ]
  },
  {
   "cell_type": "code",
   "execution_count": 18,
   "metadata": {
    "collapsed": true
   },
   "outputs": [],
   "source": [
    "os.chdir('/Users/elizabethpaul/Documents/COS424/COS-424-HW-2/models')\n",
    "from RandomForest import *\n",
    "os.chdir('../utils/')\n",
    "from UtilityFunctions import calc_r2_RMSE"
   ]
  },
  {
   "cell_type": "code",
   "execution_count": null,
   "metadata": {
    "collapsed": true
   },
   "outputs": [],
   "source": [
    "sites = train['Start']\n",
    "train_extras = np.c_[train['Exon'], train['DHS'], train['CGI']]\n",
    "train_extras = np.c_[train_extras, train['GC_100'], train['GC_400'], train['GC_1000']]\n",
    "train_extras = np.c_[train_extras, uf.read_corrs(path, chroms)]\n"
   ]
  },
  {
   "cell_type": "code",
   "execution_count": null,
   "metadata": {
    "collapsed": true
   },
   "outputs": [],
   "source": [
    "train_beta = fill_mean(train['Beta'])\n",
    "thresh = 0.5\n",
    "(X, Y, Xstar, Ystar) = feat_neighbors_thresh(sites[1:-1].copy(), train_beta[1:-1].copy(), \\\n",
    "train_extras[1:-1].copy(), sample[1:-1].copy(), test[1:-1].copy(), uf.read_corrs(path, chroms), thresh)\n"
   ]
  },
  {
   "cell_type": "code",
   "execution_count": null,
   "metadata": {
    "collapsed": true
   },
   "outputs": [],
   "source": [
    "trees = 30\n",
    "full_feat_start = time.time()\n",
    "model = RandomForestRegressor(oob_score=True, n_estimators=trees)\n",
    "model.fit(X, Y)\n",
    "Yhat = model.predict(Xstar)\n",
    "(r2, RMSE) = calc_r2_RMSE(Yhat, Ystar)"
   ]
  }
 ],
 "metadata": {
  "kernelspec": {
   "display_name": "Python 2",
   "language": "python",
   "name": "python2"
  },
  "language_info": {
   "codemirror_mode": {
    "name": "ipython",
    "version": 2
   },
   "file_extension": ".py",
   "mimetype": "text/x-python",
   "name": "python",
   "nbconvert_exporter": "python",
   "pygments_lexer": "ipython2",
   "version": "2.7.9"
  }
 },
 "nbformat": 4,
 "nbformat_minor": 0
}
